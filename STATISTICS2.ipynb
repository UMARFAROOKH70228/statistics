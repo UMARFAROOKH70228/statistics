{
 "cells": [
  {
   "cell_type": "markdown",
   "metadata": {},
   "source": [
    "Hypothesis"
   ]
  },
  {
   "cell_type": "markdown",
   "metadata": {},
   "source": [
    "An automatic bottling machine fills cola into 2liter (2000cm^3) bottles A consumer advocate wants to test null hypothesis is that average amount filled by the machine into the bottle is atleast 2000cm^3 A random sample of 40 bottles coming out of machine was selected bottles are recorded The sample mean was 1999.6cm^3 The population standerd deviation is known from the past experience to be 1.30cm^3\n",
    "1. Test the null hypothesis @ an alpha of 5%"
   ]
  },
  {
   "cell_type": "code",
   "execution_count": 1,
   "metadata": {},
   "outputs": [],
   "source": [
    "mu = 2000  #population mean\n",
    "n = 40     #sample\n",
    "x_bar = 1999.6    #sample mean\n",
    "sigma = 1.3      #population standard deviation\n",
    "alpha = .05    #left0.25 and right 0.25\n",
    "#p = ?"
   ]
  },
  {
   "cell_type": "code",
   "execution_count": 2,
   "metadata": {},
   "outputs": [],
   "source": [
    "# ho = mu>= 2000\n",
    "#ha = mu<2000"
   ]
  },
  {
   "cell_type": "code",
   "execution_count": 3,
   "metadata": {},
   "outputs": [],
   "source": [
    "#assume population is normally distributed and alpha lies on the extreme border of two sides (*0.025 each to make 5%)"
   ]
  },
  {
   "cell_type": "code",
   "execution_count": 5,
   "metadata": {},
   "outputs": [],
   "source": [
    "import scipy.stats as st\n",
    "import numpy as np\n",
    "p_value = st.norm.cdf(x_bar,loc=mu,scale=sigma/np.sqrt(40))"
   ]
  },
  {
   "cell_type": "code",
   "execution_count": 6,
   "metadata": {},
   "outputs": [
    {
     "data": {
      "text/plain": [
       "0.025826347487875892"
      ]
     },
     "execution_count": 6,
     "metadata": {},
     "output_type": "execute_result"
    }
   ],
   "source": [
    "p_value"
   ]
  },
  {
   "cell_type": "code",
   "execution_count": 7,
   "metadata": {},
   "outputs": [],
   "source": [
    "# if p is < alpha  'reject ho'\n",
    "#if p is > alpha 'accept ho '\n",
    "#where ho is null hypothesis"
   ]
  },
  {
   "cell_type": "code",
   "execution_count": null,
   "metadata": {},
   "outputs": [],
   "source": []
  }
 ],
 "metadata": {
  "kernelspec": {
   "display_name": "Python 3",
   "language": "python",
   "name": "python3"
  },
  "language_info": {
   "codemirror_mode": {
    "name": "ipython",
    "version": 3
   },
   "file_extension": ".py",
   "mimetype": "text/x-python",
   "name": "python",
   "nbconvert_exporter": "python",
   "pygments_lexer": "ipython3",
   "version": "3.8.5"
  }
 },
 "nbformat": 4,
 "nbformat_minor": 4
}
